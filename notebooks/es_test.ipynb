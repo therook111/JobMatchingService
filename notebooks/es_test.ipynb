{
 "cells": [
  {
   "cell_type": "code",
   "execution_count": 1,
   "metadata": {},
   "outputs": [
    {
     "name": "stderr",
     "output_type": "stream",
     "text": [
      "d:\\VSCraps\\new_top\\Lib\\site-packages\\tqdm\\auto.py:21: TqdmWarning: IProgress not found. Please update jupyter and ipywidgets. See https://ipywidgets.readthedocs.io/en/stable/user_install.html\n",
      "  from .autonotebook import tqdm as notebook_tqdm\n"
     ]
    }
   ],
   "source": [
    "from elasticsearch import Elasticsearch\n",
    "from elasticsearch_dsl import Search, Q\n",
    "#from utils.misc import convert_to_iso, check_for_nan, handle_null_embedding, handle_embedding_cv, validate_start_end_date\n",
    "from utils.misc import parse_query\n",
    "import json\n",
    "from datetime import datetime as dt\n",
    "import math\n",
    "import pandas as pd\n",
    "import dotenv\n",
    "from utils.cache import CVCache\n",
    "import os\n",
    "from search_engine.matching import PersonalizedEngine\n",
    "\n",
    "pd.options.display.max_columns = 100\n",
    "\n",
    "dotenv.load_dotenv('assets/sub.env')\n",
    "password = os.getenv('ELASTIC_PASSWORD')\n",
    "es = Elasticsearch(hosts=[{\"host\": \"localhost\", \"port\": 9200, \"scheme\": \"http\"}], basic_auth=(\"elastic\", password))\n",
    "GEMINI_API = os.getenv('GOOGLE_GEMINI_API')\n",
    "cache = CVCache(15)\n",
    "engine = PersonalizedEngine(es, cache)"
   ]
  },
  {
   "cell_type": "markdown",
   "metadata": {},
   "source": [
    "### drawing board"
   ]
  },
  {
   "cell_type": "code",
   "execution_count": 3,
   "metadata": {},
   "outputs": [],
   "source": [
    "job = pd.read_csv('assets/topjob_embeddings.csv')\n",
    "job2 = pd.read_csv('assets/topjob_embeddings (1).csv')"
   ]
  },
  {
   "cell_type": "code",
   "execution_count": 6,
   "metadata": {},
   "outputs": [
    {
     "name": "stdout",
     "output_type": "stream",
     "text": [
      "Finished pushing provided jobs to the database.\n",
      "Finished pushing provided jobs to the database.\n"
     ]
    }
   ],
   "source": [
    "for data in [job, job2]:\n",
    "    engine.push_jobs(data)"
   ]
  },
  {
   "cell_type": "markdown",
   "metadata": {},
   "source": [
    "### LET HIM COOK"
   ]
  },
  {
   "cell_type": "code",
   "execution_count": 2,
   "metadata": {},
   "outputs": [],
   "source": [
    "\n",
    "with open('assets/accountant_sample_cv.txt') as f:\n",
    "    cv = f.read()"
   ]
  }
 ],
 "metadata": {
  "kernelspec": {
   "display_name": "new_top",
   "language": "python",
   "name": "python3"
  },
  "language_info": {
   "codemirror_mode": {
    "name": "ipython",
    "version": 3
   },
   "file_extension": ".py",
   "mimetype": "text/x-python",
   "name": "python",
   "nbconvert_exporter": "python",
   "pygments_lexer": "ipython3",
   "version": "3.12.4"
  }
 },
 "nbformat": 4,
 "nbformat_minor": 2
}
